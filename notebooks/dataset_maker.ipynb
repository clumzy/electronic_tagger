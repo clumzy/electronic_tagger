{
 "cells": [
  {
   "cell_type": "code",
   "execution_count": 13,
   "id": "initial_id",
   "metadata": {
    "collapsed": true,
    "ExecuteTime": {
     "end_time": "2023-10-28T21:37:51.563245600Z",
     "start_time": "2023-10-28T21:37:51.545468200Z"
    }
   },
   "outputs": [],
   "source": [
    "import pandas as pd\n",
    "\n",
    "file_loc = \"D:/George/Documents/Code/clumzy/tag_my_techno/datasets/genres.csv\"\n",
    "\n",
    "playlists = pd.read_csv(\n",
    "        filepath_or_buffer=file_loc,\n",
    "        sep=\",\")"
   ]
  },
  {
   "cell_type": "code",
   "execution_count": 20,
   "outputs": [
    {
     "data": {
      "text/plain": "               Genre                                           Playlist  \\\n0  Industrial Techno  https://www.youtube.com/playlist?list=PLRyG0Ur...   \n1     Melodic Techno  https://www.youtube.com/playlist?list=PLF-wnuO...   \n\n   Songs  Téléchargé  \n0    106         NaN  \n1    148         NaN  ",
      "text/html": "<div>\n<style scoped>\n    .dataframe tbody tr th:only-of-type {\n        vertical-align: middle;\n    }\n\n    .dataframe tbody tr th {\n        vertical-align: top;\n    }\n\n    .dataframe thead th {\n        text-align: right;\n    }\n</style>\n<table border=\"1\" class=\"dataframe\">\n  <thead>\n    <tr style=\"text-align: right;\">\n      <th></th>\n      <th>Genre</th>\n      <th>Playlist</th>\n      <th>Songs</th>\n      <th>Téléchargé</th>\n    </tr>\n  </thead>\n  <tbody>\n    <tr>\n      <th>0</th>\n      <td>Industrial Techno</td>\n      <td>https://www.youtube.com/playlist?list=PLRyG0Ur...</td>\n      <td>106</td>\n      <td>NaN</td>\n    </tr>\n    <tr>\n      <th>1</th>\n      <td>Melodic Techno</td>\n      <td>https://www.youtube.com/playlist?list=PLF-wnuO...</td>\n      <td>148</td>\n      <td>NaN</td>\n    </tr>\n  </tbody>\n</table>\n</div>"
     },
     "execution_count": 20,
     "metadata": {},
     "output_type": "execute_result"
    }
   ],
   "source": [
    "playlists.head(5)"
   ],
   "metadata": {
    "collapsed": false,
    "ExecuteTime": {
     "end_time": "2023-10-28T21:39:19.425363400Z",
     "start_time": "2023-10-28T21:39:19.393118200Z"
    }
   },
   "id": "58e6709c0b28434e"
  },
  {
   "cell_type": "code",
   "execution_count": 19,
   "outputs": [
    {
     "data": {
      "text/plain": "           count unique                                                top  \\\nGenre          2      2                                  Industrial Techno   \nPlaylist       2      2  https://www.youtube.com/playlist?list=PLRyG0Ur...   \nSongs        2.0    NaN                                                NaN   \nTéléchargé   0.0    NaN                                                NaN   \n\n           freq   mean        std    min    25%    50%    75%    max  \nGenre         1    NaN        NaN    NaN    NaN    NaN    NaN    NaN  \nPlaylist      1    NaN        NaN    NaN    NaN    NaN    NaN    NaN  \nSongs       NaN  127.0  29.698485  106.0  116.5  127.0  137.5  148.0  \nTéléchargé  NaN    NaN        NaN    NaN    NaN    NaN    NaN    NaN  ",
      "text/html": "<div>\n<style scoped>\n    .dataframe tbody tr th:only-of-type {\n        vertical-align: middle;\n    }\n\n    .dataframe tbody tr th {\n        vertical-align: top;\n    }\n\n    .dataframe thead th {\n        text-align: right;\n    }\n</style>\n<table border=\"1\" class=\"dataframe\">\n  <thead>\n    <tr style=\"text-align: right;\">\n      <th></th>\n      <th>count</th>\n      <th>unique</th>\n      <th>top</th>\n      <th>freq</th>\n      <th>mean</th>\n      <th>std</th>\n      <th>min</th>\n      <th>25%</th>\n      <th>50%</th>\n      <th>75%</th>\n      <th>max</th>\n    </tr>\n  </thead>\n  <tbody>\n    <tr>\n      <th>Genre</th>\n      <td>2</td>\n      <td>2</td>\n      <td>Industrial Techno</td>\n      <td>1</td>\n      <td>NaN</td>\n      <td>NaN</td>\n      <td>NaN</td>\n      <td>NaN</td>\n      <td>NaN</td>\n      <td>NaN</td>\n      <td>NaN</td>\n    </tr>\n    <tr>\n      <th>Playlist</th>\n      <td>2</td>\n      <td>2</td>\n      <td>https://www.youtube.com/playlist?list=PLRyG0Ur...</td>\n      <td>1</td>\n      <td>NaN</td>\n      <td>NaN</td>\n      <td>NaN</td>\n      <td>NaN</td>\n      <td>NaN</td>\n      <td>NaN</td>\n      <td>NaN</td>\n    </tr>\n    <tr>\n      <th>Songs</th>\n      <td>2.0</td>\n      <td>NaN</td>\n      <td>NaN</td>\n      <td>NaN</td>\n      <td>127.0</td>\n      <td>29.698485</td>\n      <td>106.0</td>\n      <td>116.5</td>\n      <td>127.0</td>\n      <td>137.5</td>\n      <td>148.0</td>\n    </tr>\n    <tr>\n      <th>Téléchargé</th>\n      <td>0.0</td>\n      <td>NaN</td>\n      <td>NaN</td>\n      <td>NaN</td>\n      <td>NaN</td>\n      <td>NaN</td>\n      <td>NaN</td>\n      <td>NaN</td>\n      <td>NaN</td>\n      <td>NaN</td>\n      <td>NaN</td>\n    </tr>\n  </tbody>\n</table>\n</div>"
     },
     "execution_count": 19,
     "metadata": {},
     "output_type": "execute_result"
    }
   ],
   "source": [
    "playlists.describe(include='all').T"
   ],
   "metadata": {
    "collapsed": false,
    "ExecuteTime": {
     "end_time": "2023-10-28T21:39:08.038715900Z",
     "start_time": "2023-10-28T21:39:08.018506900Z"
    }
   },
   "id": "6ab9f29c961d7f46"
  },
  {
   "cell_type": "code",
   "execution_count": 24,
   "outputs": [
    {
     "name": "stdout",
     "output_type": "stream",
     "text": [
      "Industrial Techno\n",
      "Melodic Techno\n"
     ]
    }
   ],
   "source": [
    "from os import mkdir\n",
    "\n",
    "for l in playlists.iterrows():\n",
    "        print(l[1][\"Genre\"])"
   ],
   "metadata": {
    "collapsed": false,
    "ExecuteTime": {
     "end_time": "2023-10-28T21:40:20.595097500Z",
     "start_time": "2023-10-28T21:40:20.580430Z"
    }
   },
   "id": "d6920cfdd1163506"
  },
  {
   "cell_type": "code",
   "execution_count": 32,
   "outputs": [],
   "source": [
    "from os.path import exists\n",
    "\n"
   ],
   "metadata": {
    "collapsed": false,
    "ExecuteTime": {
     "end_time": "2023-10-28T21:46:43.898512700Z",
     "start_time": "2023-10-28T21:46:43.891912900Z"
    }
   },
   "id": "22288d38fec40afc"
  },
  {
   "cell_type": "code",
   "execution_count": 33,
   "outputs": [
    {
     "name": "stdout",
     "output_type": "stream",
     "text": [
      "               Genre                                           Playlist  \\\n",
      "0  Industrial Techno  https://www.youtube.com/playlist?list=PLRyG0Ur...   \n",
      "1     Melodic Techno  https://www.youtube.com/playlist?list=PLF-wnuO...   \n",
      "\n",
      "   Songs  Téléchargé  \n",
      "0    106         NaN  \n",
      "1    148         NaN  \n",
      "D:/George/Documents/Code/clumzy/tag_my_techno/datasets/Industrial Techno\n",
      "D:/George/Documents/Code/clumzy/tag_my_techno/datasets/Melodic Techno\n"
     ]
    }
   ],
   "source": [
    "a = \"D:/George/Documents/Code/clumzy/tag_my_techno/datasets/genres.csv\"\n",
    "b = \"D:/George/Documents/Code/clumzy/tag_my_techno/datasets\"\n",
    "\n",
    "download_playlists(a,b)"
   ],
   "metadata": {
    "collapsed": false,
    "ExecuteTime": {
     "end_time": "2023-10-28T21:46:45.319971400Z",
     "start_time": "2023-10-28T21:46:45.305045Z"
    }
   },
   "id": "2b7ddb1273040c98"
  }
 ],
 "metadata": {
  "kernelspec": {
   "display_name": "Python 3",
   "language": "python",
   "name": "python3"
  },
  "language_info": {
   "codemirror_mode": {
    "name": "ipython",
    "version": 2
   },
   "file_extension": ".py",
   "mimetype": "text/x-python",
   "name": "python",
   "nbconvert_exporter": "python",
   "pygments_lexer": "ipython2",
   "version": "2.7.6"
  }
 },
 "nbformat": 4,
 "nbformat_minor": 5
}
