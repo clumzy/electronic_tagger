{
 "cells": [
  {
   "cell_type": "code",
   "execution_count": 2,
   "metadata": {},
   "outputs": [],
   "source": [
    "import pandas as pd\n",
    "import numpy as np\n",
    "import seaborn as sns\n",
    "import matplotlib.pyplot as plt\n",
    "import os"
   ]
  },
  {
   "cell_type": "code",
   "execution_count": 3,
   "metadata": {},
   "outputs": [],
   "source": [
    "audio_lib = AudioLibrary(\"/home/george/Musique/22MARS\")"
   ]
  },
  {
   "cell_type": "code",
   "execution_count": 6,
   "metadata": {},
   "outputs": [
    {
     "data": {
      "text/plain": [
       "{'artist': 'Berlanga',\n",
       " 'album': 'Psy4Aliens Best of 25',\n",
       " 'title': 'Luna del Lobo (Original Mix)'}"
      ]
     },
     "execution_count": 6,
     "metadata": {},
     "output_type": "execute_result"
    }
   ],
   "source": [
    "audio_lib.get_search_tags(20)"
   ]
  }
 ],
 "metadata": {
  "interpreter": {
   "hash": "2cc6779e73cdaecd698559b8660b1e72d30ec91c7006e870c72a8069fd2ccd61"
  },
  "kernelspec": {
   "display_name": "Python 3.9.7 64-bit ('artefact')",
   "language": "python",
   "name": "python3"
  },
  "language_info": {
   "codemirror_mode": {
    "name": "ipython",
    "version": 3
   },
   "file_extension": ".py",
   "mimetype": "text/x-python",
   "name": "python",
   "nbconvert_exporter": "python",
   "pygments_lexer": "ipython3",
   "version": "3.9.7"
  },
  "orig_nbformat": 4
 },
 "nbformat": 4,
 "nbformat_minor": 2
}
